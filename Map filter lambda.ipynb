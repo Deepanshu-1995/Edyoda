{
 "cells": [
  {
   "cell_type": "code",
   "execution_count": 1,
   "id": "9813cf24",
   "metadata": {},
   "outputs": [
    {
     "name": "stdout",
     "output_type": "stream",
     "text": [
      "Enter the number : 10\n",
      "Adding the entered no. with 25, Result: 35\n"
     ]
    }
   ],
   "source": [
    "# Write a Python program to create a lambda function that adds 25 to a given number passed in as an argument.\n",
    "# sample input: 10\n",
    "# sample output: 35\n",
    "n=int(input(\"Enter the number : \"))\n",
    "add=lambda x:x+25\n",
    "print(\"Adding the entered no. with 25, Result:\",add(n))"
   ]
  },
  {
   "cell_type": "code",
   "execution_count": 2,
   "id": "755ffa98",
   "metadata": {},
   "outputs": [
    {
     "name": "stdout",
     "output_type": "stream",
     "text": [
      "Enter the size of list: 7\n",
      "Enter the value is: \n",
      "1\n",
      "Enter the value is: \n",
      "2\n",
      "Enter the value is: \n",
      "3\n",
      "Enter the value is: \n",
      "4\n",
      "Enter the value is: \n",
      "5\n",
      "Enter the value is: \n",
      "6\n",
      "Enter the value is: \n",
      "7\n",
      "Your list is:  [1, 2, 3, 4, 5, 6, 7]\n",
      "Triple of list numbers: [3, 6, 9, 12, 15, 18, 21]\n"
     ]
    }
   ],
   "source": [
    "# Write a Python program to triple all numbers of a given list of integers. Use Python map.\n",
    "# sample list: [1, 2, 3, 4, 5, 6, 7]\n",
    "# Triple of list numbers:\n",
    "# [3, 6, 9, 12, 15, 18, 21]\n",
    "\n",
    "lst=[]\n",
    "size=int(input(\"Enter the size of list: \"))\n",
    "for i in range(size):\n",
    "    print(\"Enter the value is: \")\n",
    "    ele=int(input())\n",
    "    lst.append(ele)\n",
    "    \n",
    "print(\"Your list is: \",lst)\n",
    "\n",
    "triple=list(map(lambda x:x*3,lst))\n",
    "print(\"Triple of list numbers:\",triple)"
   ]
  },
  {
   "cell_type": "code",
   "execution_count": 3,
   "id": "b37de121",
   "metadata": {},
   "outputs": [
    {
     "name": "stdout",
     "output_type": "stream",
     "text": [
      "Enter the size: 4\n",
      "Enter the value : \n",
      "4\n",
      "Enter the value : \n",
      "5\n",
      "Enter the value : \n",
      "2\n",
      "Enter the value : \n",
      "9\n",
      "Your list is : [4, 5, 2, 9]\n",
      "Square of list is:  [16, 25, 4, 81]\n"
     ]
    }
   ],
   "source": [
    "# Write a Python program to square the elements of a list using map() function.\n",
    "# Sample List: [4, 5, 2, 9]\n",
    "# Square the elements of the list:\n",
    "# [16, 25, 4, 81]\n",
    "\n",
    "lst=[]\n",
    "size=int(input(\"Enter the size: \"))\n",
    "\n",
    "for i in range(size):\n",
    "    print(\"Enter the value : \")\n",
    "    ele=int(input())\n",
    "    lst.append(ele)\n",
    "    \n",
    "print(\"Your list is :\",lst)\n",
    "\n",
    "square=list(map(lambda x: x**2,lst))\n",
    "print(\"Square of list is: \",square)"
   ]
  }
 ],
 "metadata": {
  "kernelspec": {
   "display_name": "Python 3 (ipykernel)",
   "language": "python",
   "name": "python3"
  },
  "language_info": {
   "codemirror_mode": {
    "name": "ipython",
    "version": 3
   },
   "file_extension": ".py",
   "mimetype": "text/x-python",
   "name": "python",
   "nbconvert_exporter": "python",
   "pygments_lexer": "ipython3",
   "version": "3.10.9"
  }
 },
 "nbformat": 4,
 "nbformat_minor": 5
}
