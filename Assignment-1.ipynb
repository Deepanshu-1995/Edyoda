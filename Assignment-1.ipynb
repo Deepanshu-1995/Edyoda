{
 "cells": [
  {
   "cell_type": "code",
   "execution_count": 1,
   "id": "42c12bde",
   "metadata": {},
   "outputs": [
    {
     "name": "stdout",
     "output_type": "stream",
     "text": [
      "1 1 2 3 5 8 13 21 34 "
     ]
    }
   ],
   "source": [
    "# Write a Python program to get the Fibonacci series between 0 to 50\n",
    "\n",
    "a=1\n",
    "b=1\n",
    "c=a+b\n",
    "\n",
    "print(a,b,end=' ')\n",
    "\n",
    "while c<50:\n",
    "    print(c,end=' ')\n",
    "    a=b\n",
    "    b=c\n",
    "    c=a+b\n",
    "\n"
   ]
  },
  {
   "cell_type": "code",
   "execution_count": 2,
   "id": "c7258f0c",
   "metadata": {},
   "outputs": [
    {
     "name": "stdout",
     "output_type": "stream",
     "text": [
      "Enter the word : Edyoda\n",
      "adoydE"
     ]
    }
   ],
   "source": [
    "# Write a Python program that accepts a word from the user and reverse it.\n",
    "\n",
    "word=input(\"Enter the word : \")\n",
    "word_1=reversed(word)\n",
    "for x in word_1:\n",
    "    print(x,end='')"
   ]
  },
  {
   "cell_type": "code",
   "execution_count": 3,
   "id": "b0c3012b",
   "metadata": {},
   "outputs": [
    {
     "name": "stdout",
     "output_type": "stream",
     "text": [
      "Number of even numbers : 4\n",
      "Number of odd numbers : 5\n"
     ]
    }
   ],
   "source": [
    "# Write a Python program to count the number of even and odd numbers from a series of numbers.\n",
    "\n",
    "numbers = (1, 2, 3, 4, 5, 6, 7, 8, 9) \n",
    "even_no=0\n",
    "odd_no=0\n",
    "for i in numbers:\n",
    "    if i%2==0:\n",
    "        even_no+=1\n",
    "    else:\n",
    "        odd_no+=1\n",
    "print(\"Number of even numbers :\",even_no)\n",
    "print(\"Number of odd numbers :\",odd_no)"
   ]
  },
  {
   "cell_type": "code",
   "execution_count": 1,
   "id": "6440a106",
   "metadata": {},
   "outputs": [
    {
     "name": "stdout",
     "output_type": "stream",
     "text": [
      "Enter the number of elements for list: 9\n",
      "Enter the numbers:    1\n",
      "2\n",
      "3\n",
      "4\n",
      "5\n",
      "6\n",
      "7\n",
      "8\n",
      "9\n",
      "you have entered 4 even numbers\n",
      "you have entered 5 odd numbers\n"
     ]
    }
   ],
   "source": [
    "lst=[]      \n",
    "n=int(input(\"Enter the number of elements for list: \"))   #Asking for number of elements in list\n",
    "print(\"Enter the numbers: \",end=\"   \")\n",
    "\n",
    "for i in range(0,n):\n",
    "    ele=int(input())\n",
    "    lst.append(ele)\n",
    "\n",
    "\n",
    "count_even=0\n",
    "count_odd=0\n",
    "\n",
    "for i in range(0,n):\n",
    "    if lst[i]%2==0:\n",
    "        count_even=count_even+1\n",
    "    else:\n",
    "        count_odd=count_odd+1\n",
    "\n",
    "print(\"you have entered\",count_even,\"even numbers\")\n",
    "print(\"you have entered\",count_odd,\"odd numbers\")\n"
   ]
  },
  {
   "cell_type": "code",
   "execution_count": null,
   "id": "1dc4a774",
   "metadata": {},
   "outputs": [],
   "source": []
  }
 ],
 "metadata": {
  "kernelspec": {
   "display_name": "Python 3 (ipykernel)",
   "language": "python",
   "name": "python3"
  },
  "language_info": {
   "codemirror_mode": {
    "name": "ipython",
    "version": 3
   },
   "file_extension": ".py",
   "mimetype": "text/x-python",
   "name": "python",
   "nbconvert_exporter": "python",
   "pygments_lexer": "ipython3",
   "version": "3.10.9"
  }
 },
 "nbformat": 4,
 "nbformat_minor": 5
}
