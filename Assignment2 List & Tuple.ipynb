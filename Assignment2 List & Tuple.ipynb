{
 "cells": [
  {
   "cell_type": "code",
   "execution_count": 5,
   "id": "f1959512",
   "metadata": {},
   "outputs": [
    {
     "name": "stdout",
     "output_type": "stream",
     "text": [
      "enter the size of tuple2\n",
      "enter the element2\n",
      "enter the element5\n",
      "enter 'y' to add one more tupley\n",
      "enter the element1\n",
      "enter the element2\n",
      "enter 'y' to add one more tupley\n",
      "enter the element4\n",
      "enter the element4\n",
      "enter 'y' to add one more tupley\n",
      "enter the element2\n",
      "enter the element3\n",
      "enter 'y' to add one more tupley\n",
      "enter the element2\n",
      "enter the element1\n",
      "enter 'y' to add one more tuplen\n",
      "original list: [(2, 5), (1, 2), (4, 4), (2, 3), (2, 1)]\n",
      "sorted list: [(2, 1), (1, 2), (2, 3), (4, 4), (2, 5)]\n"
     ]
    }
   ],
   "source": [
    "#sorting list of tuples on the basis of last elements of tuple\n",
    "tup=[]\n",
    "size=int(input(\"enter the size of tuple\"))\n",
    "add_ele='y'\n",
    "lst=[]\n",
    "while add_ele=='y':\n",
    "    for i in range(0,size):\n",
    "        tup=list(tup)\n",
    "        temp=int(input(\"enter the element\"))\n",
    "        tup.append(temp)\n",
    "\n",
    "    tup=tuple(tup)\n",
    "    lst.append(tup)\n",
    "    tup=[]\n",
    "    add_ele=input(\"enter 'y' to add one more tuple\")\n",
    "    if add_ele!=\"y\":\n",
    "        break\n",
    "\n",
    "print(\"original list:\",lst)\n",
    "\n",
    "for i in range(0,len(lst)):\n",
    "    for j in range(i+1,len(lst)):\n",
    "        one=lst[i][len(lst[i])-1]\n",
    "        two=lst[j][len(lst[j])-1]\n",
    "        if one>two:\n",
    "            lst[i],lst[j]=lst[j],lst[i]\n",
    "\n",
    "print(\"sorted list:\",lst)\n"
   ]
  },
  {
   "cell_type": "code",
   "execution_count": 3,
   "id": "2da37094",
   "metadata": {},
   "outputs": [
    {
     "name": "stdout",
     "output_type": "stream",
     "text": [
      "[(2, 1), (1, 2), (2, 3), (4, 4), (2, 5)]\n"
     ]
    }
   ],
   "source": [
    "def last(n): \n",
    "    return n[-1]\n",
    "\n",
    "def sort_list_last(tuples):\n",
    "  return sorted(tuples, key=last)\n",
    "\n",
    "print(sort_list_last([(2, 5), (1, 2), (4, 4), (2, 3), (2, 1)]))"
   ]
  },
  {
   "cell_type": "code",
   "execution_count": 1,
   "id": "71622795",
   "metadata": {},
   "outputs": [
    {
     "name": "stdout",
     "output_type": "stream",
     "text": [
      "{'a': 97, 'b': 98, 'c': 99, 'd': 100, 'e': 101, 'f': 102, 'g': 103, 'h': 104, 'i': 105, 'j': 106, 'k': 107, 'l': 108, 'm': 109, 'n': 110, 'o': 111, 'p': 112, 'q': 113, 'r': 114, 's': 115, 't': 116, 'u': 117, 'v': 118, 'w': 119, 'x': 120, 'y': 121, 'z': 122}\n"
     ]
    }
   ],
   "source": [
    "# Write a Python program to print a dictionary whose keys should be the alphabet from a-z and the value should be corresponding ASCII values\n",
    "\n",
    "key=[]\n",
    "value=[]\n",
    "i=ord('a')\n",
    "j=chr(i)\n",
    "\n",
    "for i in range(ord('a'),ord('z')+1):\n",
    "    j=chr(i)\n",
    "    key.append(j)\n",
    "    value.append(i)\n",
    "    \n",
    "dict=dict(zip(key,value))\n",
    "\n",
    "print(dict)\n"
   ]
  },
  {
   "cell_type": "code",
   "execution_count": null,
   "id": "a74e555c",
   "metadata": {},
   "outputs": [],
   "source": []
  }
 ],
 "metadata": {
  "kernelspec": {
   "display_name": "Python 3 (ipykernel)",
   "language": "python",
   "name": "python3"
  },
  "language_info": {
   "codemirror_mode": {
    "name": "ipython",
    "version": 3
   },
   "file_extension": ".py",
   "mimetype": "text/x-python",
   "name": "python",
   "nbconvert_exporter": "python",
   "pygments_lexer": "ipython3",
   "version": "3.10.9"
  }
 },
 "nbformat": 4,
 "nbformat_minor": 5
}
