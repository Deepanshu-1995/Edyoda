{
 "cells": [
  {
   "cell_type": "code",
   "execution_count": 1,
   "id": "856d766c",
   "metadata": {},
   "outputs": [
    {
     "name": "stdout",
     "output_type": "stream",
     "text": [
      "20\n"
     ]
    }
   ],
   "source": [
    "# Write a Python function to sum all the numbers in a list.\n",
    "\n",
    "def sum(numbers):\n",
    "    total=0\n",
    "    for i in numbers:\n",
    "        total+=i\n",
    "    return total\n",
    "\n",
    "print(sum((8,2,3,0,7)))\n"
   ]
  },
  {
   "cell_type": "code",
   "execution_count": 2,
   "id": "80ffe484",
   "metadata": {},
   "outputs": [
    {
     "name": "stdout",
     "output_type": "stream",
     "text": [
      "original string is : 1234abcd\n",
      "Reversed string is : dcba4321\n"
     ]
    }
   ],
   "source": [
    "# Write a Python program to reverse a string.\n",
    "# ﻿Sample String : \"1234abcd\"\n",
    "# Expected Output : \"dcba4321\"\n",
    "\n",
    "def reverse_string(str):\n",
    "    str1=\"\"\n",
    "    for i in str:\n",
    "        str1=i+str1\n",
    "    return str1\n",
    "\n",
    "str='1234abcd'\n",
    "print(\"original string is :\",str)\n",
    "print(\"Reversed string is :\",reverse_string(str))\n",
    "    "
   ]
  },
  {
   "cell_type": "code",
   "execution_count": 6,
   "id": "5a08a616",
   "metadata": {},
   "outputs": [
    {
     "name": "stdout",
     "output_type": "stream",
     "text": [
      "Enter the stringThe quick Brow Fox\n",
      "Lower case characters =  12 Upper case characters =  3\n"
     ]
    }
   ],
   "source": [
    "# Write a Python function that accepts a string and calculate the number of upper case letters and lower case letters.\n",
    "# ﻿Sample String : 'The quick Brow Fox'\n",
    "# Expected Output :\n",
    "# No. of Upper case characters : 3\n",
    "# No. of Lower case Characters : 12\n",
    "\n",
    "def upperlower(string):\n",
    "    upper=0\n",
    "    lower=0\n",
    "    for i in range(len(string)):\n",
    "        if (ord(string[i])>=97 and ord(string[i])<=122):\n",
    "            lower+=1\n",
    "            \n",
    "        elif (ord(string[i])>=65 and ord(string[i])<=90):\n",
    "            upper+=1\n",
    "            \n",
    "    print('Lower case characters = ', lower,\n",
    "        'Upper case characters = ' ,upper)\n",
    "    \n",
    "string=input('Enter the string')\n",
    "upperlower(string)\n",
    "\n",
    "        "
   ]
  },
  {
   "cell_type": "code",
   "execution_count": null,
   "id": "eb8eda5a",
   "metadata": {},
   "outputs": [],
   "source": []
  }
 ],
 "metadata": {
  "kernelspec": {
   "display_name": "Python 3 (ipykernel)",
   "language": "python",
   "name": "python3"
  },
  "language_info": {
   "codemirror_mode": {
    "name": "ipython",
    "version": 3
   },
   "file_extension": ".py",
   "mimetype": "text/x-python",
   "name": "python",
   "nbconvert_exporter": "python",
   "pygments_lexer": "ipython3",
   "version": "3.10.9"
  }
 },
 "nbformat": 4,
 "nbformat_minor": 5
}
